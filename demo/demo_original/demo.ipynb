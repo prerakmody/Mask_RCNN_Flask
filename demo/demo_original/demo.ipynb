{
 "cells": [
  {
   "cell_type": "markdown",
   "metadata": {},
   "source": [
    "# Mask R-CNN Demo\n",
    "\n",
    "A quick intro to using the pre-trained model to detect and segment objects."
   ]
  },
  {
   "cell_type": "code",
   "execution_count": 1,
   "metadata": {
    "ExecuteTime": {
     "end_time": "2018-03-14T07:35:36.495964Z",
     "start_time": "2018-03-14T07:35:35.118008Z"
    }
   },
   "outputs": [
    {
     "name": "stderr",
     "output_type": "stream",
     "text": [
      "/usr/local/lib/python3.5/dist-packages/h5py/__init__.py:36: FutureWarning: Conversion of the second argument of issubdtype from `float` to `np.floating` is deprecated. In future, it will be treated as `np.float64 == np.dtype(float).type`.\n",
      "  from ._conv import register_converters as _register_converters\n"
     ]
    },
    {
     "name": "stdout",
     "output_type": "stream",
     "text": [
      "TF :  1.6.0   Keras :  2.1.4\n"
     ]
    },
    {
     "name": "stderr",
     "output_type": "stream",
     "text": [
      "Using TensorFlow backend.\n"
     ]
    }
   ],
   "source": [
    "## STANDARD PYTHON LIBS\n",
    "import os\n",
    "import re\n",
    "import sys\n",
    "import cv2\n",
    "import PIL\n",
    "import math\n",
    "import time\n",
    "import random\n",
    "import skimage\n",
    "import scipy.misc\n",
    "import matplotlib\n",
    "import numpy as np\n",
    "%matplotlib notebook\n",
    "import matplotlib.pyplot as plt\n",
    "# %matplotlib inline\n",
    "\n",
    "## ADDING TO SYS\n",
    "ROOT_DIR = os.path.abspath(os.path.join(os.getcwd(), '../'))\n",
    "sys.path.append(ROOT_DIR)\n",
    "\n",
    "## CUSTOM LIBS\n",
    "import src.coco as coco\n",
    "from src.model import log\n",
    "import src.utils as utils\n",
    "import src.model as modellib\n",
    "from src.config import Config\n",
    "import src.visualize as visualize\n",
    "\n",
    "# GPU LIBS\n",
    "import keras\n",
    "import tensorflow as tf\n",
    "\n",
    "print ('TF : ', tf.__version__, '  Keras : ', keras.__version__)\n",
    "\n",
    "# if utils.check_gpu(verbose=0):\n",
    "#     pass\n",
    "# else:\n",
    "#     sys.exit(1)"
   ]
  },
  {
   "cell_type": "code",
   "execution_count": 2,
   "metadata": {
    "ExecuteTime": {
     "end_time": "2018-03-14T07:35:36.508228Z",
     "start_time": "2018-03-14T07:35:36.498401Z"
    }
   },
   "outputs": [],
   "source": [
    "MODEL_DIR = os.path.join(ROOT_DIR, \"demo\", \"logs\")\n",
    "\n",
    "COCO_MODEL_PATH = os.path.join(ROOT_DIR, 'demo', 'model', \"mask_rcnn_coco.h5\")\n",
    "# Download COCO trained weights from Releases if needed\n",
    "if not os.path.exists(COCO_MODEL_PATH):\n",
    "    utils.download_trained_weights(COCO_MODEL_PATH)\n",
    "\n",
    "# Directory of images to run detection on\n",
    "IMAGE_DIR = os.path.join(ROOT_DIR, \"images\")\n",
    "IMAGE_DIR = '/home/play/data/detectron/demo_self/raw'\n",
    "\n",
    "MODEL_DIR = COCO_MODEL_PATH"
   ]
  },
  {
   "cell_type": "markdown",
   "metadata": {},
   "source": [
    "## Configurations\n",
    "\n",
    "We'll be using a model trained on the MS-COCO dataset. The configurations of this model are in the ```CocoConfig``` class in ```coco.py```.\n",
    "\n",
    "For inferencing, modify the configurations a bit to fit the task. To do so, sub-class the ```CocoConfig``` class and override the attributes you need to change."
   ]
  },
  {
   "cell_type": "code",
   "execution_count": 3,
   "metadata": {
    "ExecuteTime": {
     "end_time": "2018-03-14T07:35:36.515563Z",
     "start_time": "2018-03-14T07:35:36.510201Z"
    }
   },
   "outputs": [],
   "source": [
    "class InferenceConfig(coco.CocoConfig):\n",
    "    # Set batch size to 1 since we'll be running inference on\n",
    "    # one image at a time. Batch size = GPU_COUNT * IMAGES_PER_GPU\n",
    "    GPU_COUNT = 1\n",
    "    IMAGES_PER_GPU = 1\n",
    "\n",
    "config = InferenceConfig()\n",
    "# config.display()"
   ]
  },
  {
   "cell_type": "markdown",
   "metadata": {},
   "source": [
    "## Create Model and Load Trained Weights"
   ]
  },
  {
   "cell_type": "code",
   "execution_count": 4,
   "metadata": {
    "ExecuteTime": {
     "end_time": "2018-03-14T07:35:40.648251Z",
     "start_time": "2018-03-14T07:35:36.517904Z"
    }
   },
   "outputs": [],
   "source": [
    "# Create model object in inference mode.\n",
    "model = modellib.MaskRCNN(mode=\"inference\", model_dir=MODEL_DIR, config=config)"
   ]
  },
  {
   "cell_type": "code",
   "execution_count": null,
   "metadata": {
    "ExecuteTime": {
     "start_time": "2018-03-14T07:35:35.057Z"
    },
    "scrolled": false
   },
   "outputs": [],
   "source": [
    "# Load weights trained on MS-COCO\n",
    "model.load_weights(COCO_MODEL_PATH, by_name=True)"
   ]
  },
  {
   "cell_type": "markdown",
   "metadata": {},
   "source": [
    "## Class Names\n",
    "\n",
    "The model classifies objects and returns class IDs, which are integer value that identify each class. Some datasets assign integer values to their classes and some don't. For example, in the MS-COCO dataset, the 'person' class is 1 and 'teddy bear' is 88. The IDs are often sequential, but not always. The COCO dataset, for example, has classes associated with class IDs 70 and 72, but not 71.\n",
    "\n",
    "To improve consistency, and to support training on data from multiple sources at the same time, our ```Dataset``` class assigns it's own sequential integer IDs to each class. For example, if you load the COCO dataset using our ```Dataset``` class, the 'person' class would get class ID = 1 (just like COCO) and the 'teddy bear' class is 78 (different from COCO). Keep that in mind when mapping class IDs to class names.\n",
    "\n",
    "To get the list of class names, you'd load the dataset and then use the ```class_names``` property like this.\n",
    "```\n",
    "# Load COCO dataset\n",
    "dataset = coco.CocoDataset()\n",
    "dataset.load_coco(COCO_DIR, \"train\")\n",
    "dataset.prepare()\n",
    "\n",
    "# Print class names\n",
    "print(dataset.class_names)\n",
    "```\n",
    "\n",
    "We don't want to require you to download the COCO dataset just to run this demo, so we're including the list of class names below. The index of the class name in the list represent its ID (first class is 0, second is 1, third is 2, ...etc.)"
   ]
  },
  {
   "cell_type": "code",
   "execution_count": null,
   "metadata": {
    "ExecuteTime": {
     "start_time": "2018-03-14T07:35:35.060Z"
    }
   },
   "outputs": [],
   "source": [
    "# COCO Class names\n",
    "# Index of the class in the list is its ID. For example, to get ID of\n",
    "# the teddy bear class, use: class_names.index('teddy bear')\n",
    "class_names = ['BG', 'person', 'bicycle', 'car', 'motorcycle', 'airplane',\n",
    "               'bus', 'train', 'truck', 'boat', 'traffic light',\n",
    "               'fire hydrant', 'stop sign', 'parking meter', 'bench', 'bird',\n",
    "               'cat', 'dog', 'horse', 'sheep', 'cow', 'elephant', 'bear',\n",
    "               'zebra', 'giraffe', 'backpack', 'umbrella', 'handbag', 'tie',\n",
    "               'suitcase', 'frisbee', 'skis', 'snowboard', 'sports ball',\n",
    "               'kite', 'baseball bat', 'baseball glove', 'skateboard',\n",
    "               'surfboard', 'tennis racket', 'bottle', 'wine glass', 'cup',\n",
    "               'fork', 'knife', 'spoon', 'bowl', 'banana', 'apple',\n",
    "               'sandwich', 'orange', 'broccoli', 'carrot', 'hot dog', 'pizza',\n",
    "               'donut', 'cake', 'chair', 'couch', 'potted plant', 'bed',\n",
    "               'dining table', 'toilet', 'tv', 'laptop', 'mouse', 'remote',\n",
    "               'keyboard', 'cell phone', 'microwave', 'oven', 'toaster',\n",
    "               'sink', 'refrigerator', 'book', 'clock', 'vase', 'scissors',\n",
    "               'teddy bear', 'hair drier', 'toothbrush']"
   ]
  },
  {
   "cell_type": "markdown",
   "metadata": {},
   "source": [
    "## Run Object Detection"
   ]
  },
  {
   "cell_type": "code",
   "execution_count": null,
   "metadata": {
    "ExecuteTime": {
     "start_time": "2018-03-14T07:35:35.062Z"
    },
    "scrolled": true
   },
   "outputs": [],
   "source": [
    "# Load a random image from the images folder\n",
    "# file_names = next(os.walk(IMAGE_DIR))[0]\n",
    "# image = skimage.io.imread(os.path.join(IMAGE_DIR, random.choice(file_names)))\n",
    "image = skimage.io.imread(os.path.join(IMAGE_DIR, 'image1.jpg'))\n",
    "\n",
    "# Run detection\n",
    "results = model.detect([image], verbose=1)\n",
    "\n",
    "# Visualize results\n",
    "r = results[0]\n",
    "visualize.display_instances(image, r['rois'], r['masks'], r['class_ids'], \n",
    "                            class_names, r['scores'])"
   ]
  },
  {
   "cell_type": "code",
   "execution_count": null,
   "metadata": {
    "ExecuteTime": {
     "start_time": "2018-03-14T07:35:35.065Z"
    }
   },
   "outputs": [],
   "source": [
    "print (r['masks'].shape)\n",
    "\n",
    "fig = plt.figure()\n",
    "ax = fig.add_subplot(111)\n",
    "plt.ion()\n",
    "fig.show()\n",
    "fig.canvas.draw()\n",
    "\n",
    "for num in range(r['masks'].shape[-1]):\n",
    "    plt.imshow(r['masks'][:, :, num])\n",
    "    fig.canvas.draw()\n",
    "    time.sleep(1)"
   ]
  },
  {
   "cell_type": "code",
   "execution_count": null,
   "metadata": {
    "ExecuteTime": {
     "start_time": "2018-03-14T07:35:35.068Z"
    }
   },
   "outputs": [],
   "source": [
    "plt.close()"
   ]
  },
  {
   "cell_type": "markdown",
   "metadata": {},
   "source": [
    "# SCRATCHPAD"
   ]
  },
  {
   "cell_type": "code",
   "execution_count": null,
   "metadata": {
    "ExecuteTime": {
     "start_time": "2018-03-14T07:35:35.070Z"
    }
   },
   "outputs": [],
   "source": [
    "%%timeit\n",
    "image = skimage.io.imread(os.path.join(IMAGE_DIR, 'image1.jpg'))\n",
    "results = model.detect([image], verbose=0)"
   ]
  },
  {
   "cell_type": "code",
   "execution_count": null,
   "metadata": {
    "ExecuteTime": {
     "start_time": "2018-03-14T07:35:35.072Z"
    }
   },
   "outputs": [],
   "source": [
    "# Sunning over all masks\n",
    "masks_sum = np.sum(r['masks'], axis=2)\n",
    "np.unique(masks_sum)"
   ]
  },
  {
   "cell_type": "markdown",
   "metadata": {},
   "source": [
    "Hence, some pixels belong to multiple masks."
   ]
  },
  {
   "cell_type": "code",
   "execution_count": null,
   "metadata": {
    "ExecuteTime": {
     "start_time": "2018-03-14T07:35:35.073Z"
    }
   },
   "outputs": [],
   "source": [
    "%matplotlib inline\n",
    "plt.figure(figsize=(15, 10))\n",
    "plt.subplot(221)\n",
    "a = np.zeros((r['masks'].shape[0], r['masks'].shape[1]))\n",
    "a[np.where(masks_sum == 0)] = 1\n",
    "print(np.sum(a), \"pixels belong to 0 masks\")\n",
    "plt.imshow(a)\n",
    "plt.subplot(222)\n",
    "a = np.zeros((r['masks'].shape[0], r['masks'].shape[1]))\n",
    "a[np.where(masks_sum == 1)] = 1\n",
    "print(np.sum(a), \"pixels belong to 1 mask\")\n",
    "plt.imshow(a)\n",
    "plt.subplot(223)\n",
    "a = np.zeros((r['masks'].shape[0], r['masks'].shape[1]))\n",
    "a[np.where(masks_sum == 2)] = 1\n",
    "print(np.sum(a), \"pixels belong to 2 masks\")\n",
    "plt.imshow(a)\n",
    "plt.subplot(224)\n",
    "a = np.zeros((r['masks'].shape[0], r['masks'].shape[1]))\n",
    "a[np.where(masks_sum == 3)] = 1\n",
    "print(np.sum(a), \"pixels belong to 3 masks\")\n",
    "plt.imshow(a)"
   ]
  },
  {
   "cell_type": "code",
   "execution_count": null,
   "metadata": {
    "ExecuteTime": {
     "start_time": "2018-03-14T07:35:35.075Z"
    }
   },
   "outputs": [],
   "source": [
    "np.where(masks_sum == 2)"
   ]
  },
  {
   "cell_type": "code",
   "execution_count": null,
   "metadata": {
    "ExecuteTime": {
     "start_time": "2018-03-14T07:35:35.079Z"
    }
   },
   "outputs": [],
   "source": [
    "type(r['masks'][0, 0, 1])"
   ]
  },
  {
   "cell_type": "code",
   "execution_count": null,
   "metadata": {
    "ExecuteTime": {
     "start_time": "2018-03-14T07:35:35.081Z"
    }
   },
   "outputs": [],
   "source": [
    "w, h = r['masks'].shape[:2]"
   ]
  },
  {
   "cell_type": "code",
   "execution_count": null,
   "metadata": {
    "ExecuteTime": {
     "start_time": "2018-03-14T07:35:35.084Z"
    }
   },
   "outputs": [],
   "source": [
    "round(1024./w*h)"
   ]
  },
  {
   "cell_type": "code",
   "execution_count": null,
   "metadata": {},
   "outputs": [],
   "source": []
  },
  {
   "cell_type": "code",
   "execution_count": null,
   "metadata": {},
   "outputs": [],
   "source": []
  },
  {
   "cell_type": "code",
   "execution_count": null,
   "metadata": {},
   "outputs": [],
   "source": []
  },
  {
   "cell_type": "code",
   "execution_count": null,
   "metadata": {},
   "outputs": [],
   "source": []
  }
 ],
 "metadata": {
  "kernelspec": {
   "display_name": "Python 3",
   "language": "python",
   "name": "python3"
  },
  "language_info": {
   "codemirror_mode": {
    "name": "ipython",
    "version": 3
   },
   "file_extension": ".py",
   "mimetype": "text/x-python",
   "name": "python",
   "nbconvert_exporter": "python",
   "pygments_lexer": "ipython3",
   "version": "3.5.2"
  }
 },
 "nbformat": 4,
 "nbformat_minor": 2
}
